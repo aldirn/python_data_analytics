{
 "cells": [
  {
   "cell_type": "code",
   "execution_count": 1,
   "id": "26149a17",
   "metadata": {},
   "outputs": [],
   "source": [
    "# Importing Libraries\n",
    "import pandas as pd\n",
    "from datasets import load_dataset\n",
    "import matplotlib.pyplot as plt\n",
    "\n",
    "# Loading Data\n",
    "dataset = load_dataset('lukebarousse/data_jobs')\n",
    "df = dataset['train'].to_pandas()\n",
    "\n",
    "# Data Cleanup\n",
    "df['job_posted_date'] = pd.to_datetime(df['job_posted_date'])"
   ]
  },
  {
   "cell_type": "code",
   "execution_count": 2,
   "id": "95890c27",
   "metadata": {},
   "outputs": [
    {
     "data": {
      "text/plain": [
       "np.float64(115000.0)"
      ]
     },
     "execution_count": 2,
     "metadata": {},
     "output_type": "execute_result"
    }
   ],
   "source": [
    "# Median for Yearly Salary\n",
    "median_salary_year = df['salary_year_avg'].median().copy()\n",
    "median_salary_year"
   ]
  },
  {
   "cell_type": "code",
   "execution_count": 3,
   "id": "a7edeb18",
   "metadata": {},
   "outputs": [
    {
     "data": {
      "text/plain": [
       "np.float64(45.97999954223633)"
      ]
     },
     "execution_count": 3,
     "metadata": {},
     "output_type": "execute_result"
    }
   ],
   "source": [
    "# Median for Hourly Salary\n",
    "median_salary_hour = df['salary_hour_avg'].median().copy()\n",
    "median_salary_hour"
   ]
  },
  {
   "cell_type": "code",
   "execution_count": 4,
   "id": "feebe672",
   "metadata": {},
   "outputs": [],
   "source": [
    "df_filled = df.copy()"
   ]
  },
  {
   "cell_type": "code",
   "execution_count": 5,
   "id": "baa6e8f9",
   "metadata": {},
   "outputs": [],
   "source": [
    "# Fill the NaN values with Median\n",
    "df_filled['salary_year_avg'] = df_filled['salary_year_avg'].fillna(median_salary_year)\n",
    "df_filled['salary_hour_avg'] = df_filled['salary_hour_avg'].fillna(median_salary_hour)"
   ]
  },
  {
   "cell_type": "code",
   "execution_count": 6,
   "id": "9c8829c6",
   "metadata": {},
   "outputs": [],
   "source": [
    "df_unique = df_filled.copy()"
   ]
  },
  {
   "cell_type": "code",
   "execution_count": 7,
   "id": "9199740d",
   "metadata": {},
   "outputs": [
    {
     "name": "stdout",
     "output_type": "stream",
     "text": [
      "Original: 785741 | Unique: 785640 | Dropped: 101\n"
     ]
    }
   ],
   "source": [
    "# Drop Duplicates\n",
    "df_unique = df_unique.drop_duplicates()\n",
    "print(f\"Original: {len(df_filled)} | Unique: {len(df_unique)} | Dropped: {len(df_filled) - len(df_unique)}\")"
   ]
  },
  {
   "cell_type": "code",
   "execution_count": 8,
   "id": "beb1a6ca",
   "metadata": {},
   "outputs": [
    {
     "name": "stdout",
     "output_type": "stream",
     "text": [
      "Original: 785741 | Unique: 508042 | Dropped: 277699\n"
     ]
    }
   ],
   "source": [
    "# Drop Duplicates and specify subset columns\n",
    "df_unique = df_unique.drop_duplicates(subset=['job_title', 'company_name'])\n",
    "print(f\"Original: {len(df_filled)} | Unique: {len(df_unique)} | Dropped: {len(df_filled) - len(df_unique)}\")"
   ]
  }
 ],
 "metadata": {
  "kernelspec": {
   "display_name": "venv",
   "language": "python",
   "name": "python3"
  },
  "language_info": {
   "codemirror_mode": {
    "name": "ipython",
    "version": 3
   },
   "file_extension": ".py",
   "mimetype": "text/x-python",
   "name": "python",
   "nbconvert_exporter": "python",
   "pygments_lexer": "ipython3",
   "version": "3.12.4"
  }
 },
 "nbformat": 4,
 "nbformat_minor": 5
}
